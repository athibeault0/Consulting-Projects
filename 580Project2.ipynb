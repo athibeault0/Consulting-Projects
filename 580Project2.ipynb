{
  "nbformat": 4,
  "nbformat_minor": 0,
  "metadata": {
    "colab": {
      "provenance": []
    },
    "kernelspec": {
      "name": "python3",
      "display_name": "Python 3"
    },
    "language_info": {
      "name": "python"
    }
  },
  "cells": [
    {
      "cell_type": "markdown",
      "source": [
        "**Consulting Project 2**\n",
        "\n",
        "Goal: Construct a model to predict the sale price of houses in the test data set\n",
        "\n",
        "\n",
        "---------------------------------------------\n",
        "---------------------------------------------"
      ],
      "metadata": {
        "id": "PtLxXJou_yCJ"
      }
    },
    {
      "cell_type": "code",
      "execution_count": null,
      "metadata": {
        "colab": {
          "base_uri": "https://localhost:8080/"
        },
        "id": "j-dcA-ii9HFz",
        "outputId": "bc463ad9-b47d-4491-da29-0344d31c475a"
      },
      "outputs": [
        {
          "output_type": "stream",
          "name": "stdout",
          "text": [
            "Mounted at /content/drive\n"
          ]
        }
      ],
      "source": [
        "#mounting drive to get it started\n",
        "from google.colab import drive\n",
        "drive.mount('/content/drive')"
      ]
    },
    {
      "cell_type": "code",
      "source": [
        "#importing all our packages\n",
        "import pandas as pd\n",
        "import numpy as np\n",
        "#statsmodels\n",
        "import statsmodels.api as smapi\n",
        "import statsmodels.formula.api as smf\n",
        "import statsmodels.stats as stats\n",
        "#all our sklearn tools\n",
        "from sklearn.preprocessing import StandardScaler\n",
        "from sklearn.decomposition import PCA\n",
        "from sklearn.experimental import enable_hist_gradient_boosting\n",
        "from sklearn.ensemble import HistGradientBoostingClassifier\n",
        "from sklearn.metrics import confusion_matrix, accuracy_score, roc_auc_score\n",
        "from sklearn import linear_model\n",
        "from sklearn import tree\n",
        "from sklearn.tree import DecisionTreeClassifier\n",
        "from sklearn.tree import DecisionTreeRegressor\n",
        "from sklearn.svm import SVR\n",
        "from sklearn.metrics import mean_squared_error\n",
        "#seaborn, mpl for visualizations\n",
        "import seaborn as sns\n",
        "import matplotlib.pyplot as plt\n",
        "from mlxtend.plotting import plot_confusion_matrix"
      ],
      "metadata": {
        "id": "urL9rkeO_5zx",
        "colab": {
          "base_uri": "https://localhost:8080/"
        },
        "outputId": "e36341f7-ca35-4339-ab14-207fb7da9857"
      },
      "execution_count": null,
      "outputs": [
        {
          "output_type": "stream",
          "name": "stderr",
          "text": [
            "/usr/local/lib/python3.10/dist-packages/sklearn/experimental/enable_hist_gradient_boosting.py:16: UserWarning: Since version 1.0, it is not needed to import enable_hist_gradient_boosting anymore. HistGradientBoostingClassifier and HistGradientBoostingRegressor are now stable and can be normally imported from sklearn.ensemble.\n",
            "  warnings.warn(\n"
          ]
        }
      ]
    },
    {
      "cell_type": "code",
      "source": [
        "#importing 3 training datasets to get started\n",
        "a = pd.read_csv('/content/drive/MyDrive/CollegeCr.csv')\n",
        "b = pd.read_csv('/content/drive/MyDrive/Edwards.csv')\n",
        "c = pd.read_csv('/content/drive/MyDrive/OldTown.csv')"
      ],
      "metadata": {
        "id": "ljgeRQJ_AH8g"
      },
      "execution_count": null,
      "outputs": []
    },
    {
      "cell_type": "markdown",
      "source": [
        "Data Cleaning for a (CollegeCr)"
      ],
      "metadata": {
        "id": "hhKqkkQMDD64"
      }
    },
    {
      "cell_type": "code",
      "source": [
        "a.head()"
      ],
      "metadata": {
        "id": "MiXorOlSDBux"
      },
      "execution_count": null,
      "outputs": []
    },
    {
      "cell_type": "code",
      "source": [
        "a.duplicated().sum()"
      ],
      "metadata": {
        "id": "oqs_ZP3PFTt7"
      },
      "execution_count": null,
      "outputs": []
    },
    {
      "cell_type": "code",
      "source": [
        "a1 = a.drop_duplicates()"
      ],
      "metadata": {
        "id": "Ln9EHGvNbMRB"
      },
      "execution_count": null,
      "outputs": []
    },
    {
      "cell_type": "code",
      "source": [
        "a1.duplicated().sum()"
      ],
      "metadata": {
        "id": "u85wQeLVb5NF"
      },
      "execution_count": null,
      "outputs": []
    },
    {
      "cell_type": "code",
      "source": [
        "#getting a read on the missing values of the dataset\n",
        "a1.isna().sum()"
      ],
      "metadata": {
        "id": "cDrqfSuODLbe"
      },
      "execution_count": null,
      "outputs": []
    },
    {
      "cell_type": "code",
      "source": [
        "#we're going to drop the observations with missing values\n",
        "a2 = a1.dropna()"
      ],
      "metadata": {
        "id": "TCO_3or-DtXb"
      },
      "execution_count": null,
      "outputs": []
    },
    {
      "cell_type": "code",
      "source": [
        "#double checking the outcome\n",
        "a2.isna().sum() #none, nice"
      ],
      "metadata": {
        "id": "vUNTDgzvD7G-"
      },
      "execution_count": null,
      "outputs": []
    },
    {
      "cell_type": "code",
      "source": [
        "#descriptive statistics\n",
        "a2.describe()"
      ],
      "metadata": {
        "id": "bOguRonqE3gn"
      },
      "execution_count": null,
      "outputs": []
    },
    {
      "cell_type": "code",
      "source": [
        "a2.info()"
      ],
      "metadata": {
        "id": "P4oyXZPzFjhz"
      },
      "execution_count": null,
      "outputs": []
    },
    {
      "cell_type": "markdown",
      "source": [
        "Splitting the LotInfo into values: LotConfig, LotShape, LotArea, and LotFrontage"
      ],
      "metadata": {
        "id": "25fitpSocCrY"
      }
    },
    {
      "cell_type": "code",
      "source": [
        "a2[['LotConfig', 'LotShape', 'LotArea', 'LotFrontage']] = a2['LotInfo'].str.split(';',expand=True)\n",
        "a2"
      ],
      "metadata": {
        "id": "3-pbmnJNcbEz"
      },
      "execution_count": null,
      "outputs": []
    },
    {
      "cell_type": "markdown",
      "source": [
        "Splitting the Exterior into values: Exterior1st, ExterQual, and ExterCond"
      ],
      "metadata": {
        "id": "1SHUC7kndKhU"
      }
    },
    {
      "cell_type": "code",
      "source": [
        "a2[['Exterior1st', 'ExterQual', 'ExterCond']] = a2['Exterior'].str.split(';',expand=True)\n",
        "a2"
      ],
      "metadata": {
        "id": "lNmaNQkydgjR"
      },
      "execution_count": null,
      "outputs": []
    },
    {
      "cell_type": "markdown",
      "source": [
        "Adding a column that's a neighborhood Identifier"
      ],
      "metadata": {
        "id": "VS_EK5e5d3YJ"
      }
    },
    {
      "cell_type": "code",
      "source": [
        "a2['Neighborhood'] = \"CollegeCr\"\n",
        "a2"
      ],
      "metadata": {
        "id": "gpvVglpNd7sT"
      },
      "execution_count": null,
      "outputs": []
    },
    {
      "cell_type": "markdown",
      "source": [
        "Cleaning for b (Edwards)"
      ],
      "metadata": {
        "id": "F-tXP8QXHhbe"
      }
    },
    {
      "cell_type": "code",
      "source": [
        "b.head()"
      ],
      "metadata": {
        "id": "Y3rmu5DTHlf5"
      },
      "execution_count": null,
      "outputs": []
    },
    {
      "cell_type": "code",
      "source": [
        "b.duplicated().sum() #no duplicates"
      ],
      "metadata": {
        "id": "kaUW61n4H3gt"
      },
      "execution_count": null,
      "outputs": []
    },
    {
      "cell_type": "code",
      "source": [
        "#getting a read on the missing values of the dataset\n",
        "b.isna().sum()"
      ],
      "metadata": {
        "id": "0MU9RqWYH-RD"
      },
      "execution_count": null,
      "outputs": []
    },
    {
      "cell_type": "code",
      "source": [
        "#we're going to drop the observations with missing values\n",
        "b1 = b.dropna()"
      ],
      "metadata": {
        "id": "cZPpvZq9H7lX"
      },
      "execution_count": null,
      "outputs": []
    },
    {
      "cell_type": "code",
      "source": [
        "#double checking the outcome\n",
        "b1.isna().sum() #none, nice"
      ],
      "metadata": {
        "id": "tGJTVnA-IDdC"
      },
      "execution_count": null,
      "outputs": []
    },
    {
      "cell_type": "code",
      "source": [
        "#descriptive statistics\n",
        "b1.describe()"
      ],
      "metadata": {
        "id": "_ldkxeQGIGZ1"
      },
      "execution_count": null,
      "outputs": []
    },
    {
      "cell_type": "code",
      "source": [
        "b1.info()"
      ],
      "metadata": {
        "id": "zMdmBUvNIIET"
      },
      "execution_count": null,
      "outputs": []
    },
    {
      "cell_type": "markdown",
      "source": [
        "Splitting the LotInfo into values: LotConfig, LotShape, LotArea, and LotFrontage"
      ],
      "metadata": {
        "id": "PGdqfpGIfrbP"
      }
    },
    {
      "cell_type": "code",
      "source": [
        "b1[['LotConfig', 'LotShape', 'LotArea', 'LotFrontage']] = b1['LotInfo'].str.split(';',expand=True)\n",
        "b1"
      ],
      "metadata": {
        "id": "gHoRJ8J4fvfD"
      },
      "execution_count": null,
      "outputs": []
    },
    {
      "cell_type": "markdown",
      "source": [
        "Splitting the Exterior into values: Exterior1st, ExterQual, and ExterCond"
      ],
      "metadata": {
        "id": "4lswik7Pf8_c"
      }
    },
    {
      "cell_type": "code",
      "source": [
        "b1[['Exterior1st', 'ExterQual', 'ExterCond']] = b1['Exterior'].str.split(';',expand=True)\n",
        "b1"
      ],
      "metadata": {
        "id": "8-hvg_hVf62C"
      },
      "execution_count": null,
      "outputs": []
    },
    {
      "cell_type": "markdown",
      "source": [
        "Adding a column that's a neighborhood Identifier"
      ],
      "metadata": {
        "id": "uwclTcxugEh1"
      }
    },
    {
      "cell_type": "code",
      "source": [
        "b1['Neighborhood'] = \"Edwards\"\n",
        "b1"
      ],
      "metadata": {
        "id": "WnIocrplgE6c"
      },
      "execution_count": null,
      "outputs": []
    },
    {
      "cell_type": "markdown",
      "source": [
        "Finally onto cleaning for c (OldTown)"
      ],
      "metadata": {
        "id": "5sGi3-i7ItV1"
      }
    },
    {
      "cell_type": "code",
      "source": [
        "c.head()"
      ],
      "metadata": {
        "id": "aA7QFBPGIsz2"
      },
      "execution_count": null,
      "outputs": []
    },
    {
      "cell_type": "code",
      "source": [
        "c.duplicated().sum() #one duplicate"
      ],
      "metadata": {
        "id": "Y5-43a4WI1Lp"
      },
      "execution_count": null,
      "outputs": []
    },
    {
      "cell_type": "code",
      "source": [
        "c1 = c.drop_duplicates()"
      ],
      "metadata": {
        "id": "cKJb7SizgRHF"
      },
      "execution_count": null,
      "outputs": []
    },
    {
      "cell_type": "code",
      "source": [
        "c1.duplicated().sum()"
      ],
      "metadata": {
        "id": "a-CyVEU0gY2v"
      },
      "execution_count": null,
      "outputs": []
    },
    {
      "cell_type": "code",
      "source": [
        "#getting a read on the missing values of the dataset\n",
        "c1.isna().sum()"
      ],
      "metadata": {
        "id": "NdQUOdAcI7U3"
      },
      "execution_count": null,
      "outputs": []
    },
    {
      "cell_type": "code",
      "source": [
        "#we're going to drop the observations with missing values\n",
        "c2 = c1.dropna()"
      ],
      "metadata": {
        "id": "whPd7owCI_Z3"
      },
      "execution_count": null,
      "outputs": []
    },
    {
      "cell_type": "code",
      "source": [
        "#double checking the outcome\n",
        "c2.isna().sum() #none, nice"
      ],
      "metadata": {
        "id": "mQutCwvTJEfV"
      },
      "execution_count": null,
      "outputs": []
    },
    {
      "cell_type": "code",
      "source": [
        "#descriptive statistics\n",
        "c2.describe()"
      ],
      "metadata": {
        "id": "91kI_7URJGEn"
      },
      "execution_count": null,
      "outputs": []
    },
    {
      "cell_type": "code",
      "source": [
        "c2.info()"
      ],
      "metadata": {
        "id": "m9rgUFidJI7H"
      },
      "execution_count": null,
      "outputs": []
    },
    {
      "cell_type": "markdown",
      "source": [
        "Splitting the LotInfo into values: LotConfig, LotShape, LotArea, and LotFrontage"
      ],
      "metadata": {
        "id": "3tK-6p38gnY9"
      }
    },
    {
      "cell_type": "code",
      "source": [
        "c2[['LotConfig', 'LotShape', 'LotArea', 'LotFrontage']] = c2['LotInfo'].str.split(';',expand=True)\n",
        "c2"
      ],
      "metadata": {
        "id": "Sc9paNfigscq"
      },
      "execution_count": null,
      "outputs": []
    },
    {
      "cell_type": "markdown",
      "source": [
        "Splitting the Exterior into values: Exterior1st, ExterQual, and ExterCond"
      ],
      "metadata": {
        "id": "d_lRuOcCqhHX"
      }
    },
    {
      "cell_type": "code",
      "source": [
        "c2[['Exterior1st', 'ExterQual', 'ExterCond']] = c2['Exterior'].str.split(';',expand=True)\n",
        "c2"
      ],
      "metadata": {
        "id": "wuRE6MZ0qlRr"
      },
      "execution_count": null,
      "outputs": []
    },
    {
      "cell_type": "markdown",
      "source": [
        "Adding a column that's a neighborhood Identifier"
      ],
      "metadata": {
        "id": "hanO1h8eqrlQ"
      }
    },
    {
      "cell_type": "code",
      "source": [
        "c2['Neighborhood'] = \"OldTown\"\n",
        "c2"
      ],
      "metadata": {
        "id": "f57uQ0hhqq4-"
      },
      "execution_count": null,
      "outputs": []
    },
    {
      "cell_type": "markdown",
      "source": [
        "Now we're going to start formatting the three datasets so"
      ],
      "metadata": {
        "id": "zJdEMGgqsBY1"
      }
    },
    {
      "cell_type": "code",
      "source": [
        "a3 = a2[['Neighborhood', 'OverallQual', 'BedroomAbvGr', 'CentralAir', 'BsmtQual', 'Fireplaces', 'YrSold', 'HouseStyle', 'HeatingQC', 'GarageType', 'RoofMatl', 'PavedDrive', 'SaleType', 'FullBath', 'OpenPorchSF', 'RoofStyle', 'Utilities', 'BsmtFinSF1', 'Heating', 'KitchenQual', 'HalfBath', 'BsmtFinType1', 'WoodDeckSF', 'TotRmsAbvGrd', 'SalePrice', 'YearBuilt', 'BsmtCond', 'Foundation', 'Electrical', 'BldgType', 'OverallCond', 'GrLivArea', 'LotConfig', 'LotShape', 'LotArea', 'LotFrontage', 'Exterior1st', 'ExterQual', 'ExterCond']]"
      ],
      "metadata": {
        "id": "xyG0jtEAqdOX"
      },
      "execution_count": null,
      "outputs": []
    },
    {
      "cell_type": "code",
      "source": [
        "a3.head()"
      ],
      "metadata": {
        "id": "IG2vgiMJraXa"
      },
      "execution_count": null,
      "outputs": []
    },
    {
      "cell_type": "code",
      "source": [
        "a3.shape"
      ],
      "metadata": {
        "id": "cIluXkc1uAm8"
      },
      "execution_count": null,
      "outputs": []
    },
    {
      "cell_type": "code",
      "source": [
        "b2 = b1[['Neighborhood', 'OverallQual', 'BedroomAbvGr', 'CentralAir', 'BsmtQual', 'Fireplaces', 'YrSold', 'HouseStyle', 'HeatingQC', 'GarageType', 'RoofMatl', 'PavedDrive', 'SaleType', 'FullBath', 'OpenPorchSF', 'RoofStyle', 'Utilities', 'BsmtFinSF1', 'Heating', 'KitchenQual', 'HalfBath', 'BsmtFinType1', 'WoodDeckSF', 'TotRmsAbvGrd', 'SalePrice', 'YearBuilt', 'BsmtCond', 'Foundation', 'Electrical', 'BldgType', 'OverallCond', 'GrLivArea', 'LotConfig', 'LotShape', 'LotArea', 'LotFrontage', 'Exterior1st', 'ExterQual', 'ExterCond']]"
      ],
      "metadata": {
        "id": "LJWHrFmAtBR8"
      },
      "execution_count": null,
      "outputs": []
    },
    {
      "cell_type": "code",
      "source": [
        "b2.head()"
      ],
      "metadata": {
        "id": "SgP8CdsZtEG0"
      },
      "execution_count": null,
      "outputs": []
    },
    {
      "cell_type": "code",
      "source": [
        "b2.shape"
      ],
      "metadata": {
        "id": "gNOYdmuvuN_R"
      },
      "execution_count": null,
      "outputs": []
    },
    {
      "cell_type": "code",
      "source": [
        "c3 = c2[['Neighborhood', 'OverallQual', 'BedroomAbvGr', 'CentralAir', 'BsmtQual', 'Fireplaces', 'YrSold', 'HouseStyle', 'HeatingQC', 'GarageType', 'RoofMatl', 'PavedDrive', 'SaleType', 'FullBath', 'OpenPorchSF', 'RoofStyle', 'Utilities', 'BsmtFinSF1', 'Heating', 'KitchenQual', 'HalfBath', 'BsmtFinType1', 'WoodDeckSF', 'TotRmsAbvGrd', 'SalePrice', 'YearBuilt', 'BsmtCond', 'Foundation', 'Electrical', 'BldgType', 'OverallCond', 'GrLivArea', 'LotConfig', 'LotShape', 'LotArea', 'LotFrontage', 'Exterior1st', 'ExterQual', 'ExterCond']]"
      ],
      "metadata": {
        "id": "NegqdEaAtKSU"
      },
      "execution_count": null,
      "outputs": []
    },
    {
      "cell_type": "code",
      "source": [
        "c3.head()"
      ],
      "metadata": {
        "id": "SSt8PPnutNjS"
      },
      "execution_count": null,
      "outputs": []
    },
    {
      "cell_type": "code",
      "source": [
        "c3.shape"
      ],
      "metadata": {
        "id": "IBf8zlKguhHw"
      },
      "execution_count": null,
      "outputs": []
    },
    {
      "cell_type": "code",
      "source": [
        "train = pd.concat([a3, b2, c3])"
      ],
      "metadata": {
        "id": "aevg9FP9vwF7"
      },
      "execution_count": null,
      "outputs": []
    },
    {
      "cell_type": "code",
      "source": [
        "train.shape"
      ],
      "metadata": {
        "id": "OdgGndqgv4mV"
      },
      "execution_count": null,
      "outputs": []
    },
    {
      "cell_type": "markdown",
      "source": [
        "Now that we have a combined dataset with only full observations and common columns from each of the three data sets, we'll perform the final seclection/ cleaning process before we begin the predictive analysis."
      ],
      "metadata": {
        "id": "nMNtgjgHwdH_"
      }
    },
    {
      "cell_type": "code",
      "source": [
        "#Heatplot to explore some relationships\n",
        "sns.heatmap(data = train.corr()) #there's not really any glaring correlations that will influence the analysis, but a couple of situations to watch out for"
      ],
      "metadata": {
        "id": "BKG9VZB3xjX_"
      },
      "execution_count": null,
      "outputs": []
    },
    {
      "cell_type": "code",
      "source": [
        "sns.pairplot(data = train)"
      ],
      "metadata": {
        "id": "rV4MnFPk1UHo"
      },
      "execution_count": null,
      "outputs": []
    },
    {
      "cell_type": "markdown",
      "source": [
        "Looking into outliers"
      ],
      "metadata": {
        "id": "2m5UHukf6SpR"
      }
    },
    {
      "cell_type": "code",
      "source": [
        "train.describe()"
      ],
      "metadata": {
        "id": "63U5inXB6R7j"
      },
      "execution_count": null,
      "outputs": []
    },
    {
      "cell_type": "markdown",
      "source": [
        "From the above, we can see clear outliers in OpenPorchSF, BsmtFinSF1, WoodDeckSF, TotRmsAbvGrd, and GrLivArea. We'll start with these first."
      ],
      "metadata": {
        "id": "ElpNSMjn8ZTn"
      }
    },
    {
      "cell_type": "code",
      "source": [
        "#OpenPorchSF outlier removal\n",
        "q_low = train[\"OpenPorchSF\"].quantile(0.01)\n",
        "q_hi  = train[\"OpenPorchSF\"].quantile(0.99)\n",
        "train1 = train\n",
        "train1 = train[(train[\"OpenPorchSF\"] < q_hi) & (train[\"OpenPorchSF\"] > q_low)]"
      ],
      "metadata": {
        "id": "xEGdTumLBpPt"
      },
      "execution_count": null,
      "outputs": []
    },
    {
      "cell_type": "code",
      "source": [
        "train.shape"
      ],
      "metadata": {
        "id": "TxrCkof8FWY8"
      },
      "execution_count": null,
      "outputs": []
    },
    {
      "cell_type": "code",
      "source": [
        "train1.shape"
      ],
      "metadata": {
        "id": "WrAA8pO5FYkJ"
      },
      "execution_count": null,
      "outputs": []
    },
    {
      "cell_type": "code",
      "source": [
        "#BsmtFinSF1 outlier removal\n",
        "q_low = train1[\"BsmtFinSF1\"].quantile(0.01)\n",
        "q_hi  = train1[\"BsmtFinSF1\"].quantile(0.99)\n",
        "train1 = train1[(train1[\"BsmtFinSF1\"] < q_hi) & (train1[\"BsmtFinSF1\"] > q_low)]"
      ],
      "metadata": {
        "id": "NH_dPgKiGvlf"
      },
      "execution_count": null,
      "outputs": []
    },
    {
      "cell_type": "code",
      "source": [
        "train1.shape"
      ],
      "metadata": {
        "id": "lGLu7P9uHEE9"
      },
      "execution_count": null,
      "outputs": []
    },
    {
      "cell_type": "code",
      "source": [
        "#WoodDeckSF outlier removal\n",
        "q_low = train1[\"WoodDeckSF\"].quantile(0.01)\n",
        "q_hi  = train1[\"WoodDeckSF\"].quantile(0.99)\n",
        "train1 = train1[(train1[\"WoodDeckSF\"] < q_hi) & (train1[\"WoodDeckSF\"] > q_low)]"
      ],
      "metadata": {
        "id": "4nK_Y5qHHKfT"
      },
      "execution_count": null,
      "outputs": []
    },
    {
      "cell_type": "code",
      "source": [
        "train1.shape"
      ],
      "metadata": {
        "id": "jDjYGxjoHiYC"
      },
      "execution_count": null,
      "outputs": []
    },
    {
      "cell_type": "code",
      "source": [
        "#TotRmsAbvGrd outlier removal\n",
        "q_low = train1[\"TotRmsAbvGrd\"].quantile(0.01)\n",
        "q_hi  = train1[\"TotRmsAbvGrd\"].quantile(0.99)\n",
        "train1 = train1[(train1[\"TotRmsAbvGrd\"] < q_hi) & (train1[\"TotRmsAbvGrd\"] > q_low)]"
      ],
      "metadata": {
        "id": "B76Lw72SHtph"
      },
      "execution_count": null,
      "outputs": []
    },
    {
      "cell_type": "code",
      "source": [
        "train1.shape"
      ],
      "metadata": {
        "id": "DFN45CxtHxP2"
      },
      "execution_count": null,
      "outputs": []
    },
    {
      "cell_type": "code",
      "source": [
        "#GrLivArea outlier removal\n",
        "q_low = train1[\"GrLivArea\"].quantile(0.01)\n",
        "q_hi  = train1[\"GrLivArea\"].quantile(0.99)\n",
        "train1 = train1[(train1[\"GrLivArea\"] < q_hi) & (train1[\"GrLivArea\"] > q_low)]"
      ],
      "metadata": {
        "id": "1uv3lYIkH1sW"
      },
      "execution_count": null,
      "outputs": []
    },
    {
      "cell_type": "code",
      "source": [
        "train1.shape"
      ],
      "metadata": {
        "id": "TFqJg9m8H6Ax"
      },
      "execution_count": null,
      "outputs": []
    },
    {
      "cell_type": "markdown",
      "source": [
        "Since this is clearly not going the way we're hoping for, we'll need to remove those at the model stage using the Bonferroni test:\n",
        "\n",
        "\"The Bonferroni Outlier Tests uses a t distribution to test whether the model's largest studentized residual value's outlier status is statistically different from the other observations in the model. A significant p-value indicates an extreme outlier that warrants further examination.\"\n",
        "\n",
        "model.outlier_test(method='bonf', alpha=0.5, cutoff=1)\n",
        "df.drop(df.index[[outlier indices identified in the above test]])"
      ],
      "metadata": {
        "id": "oLHNamZQIFLU"
      }
    },
    {
      "cell_type": "markdown",
      "source": [
        "The final steps will be completed after we run our initial model: model assumption checking, recategorization of categorical variables, outlier removal, etc. so we'll wrap up by exporting the combined dataset."
      ],
      "metadata": {
        "id": "y0GCp3OAIllG"
      }
    },
    {
      "cell_type": "code",
      "source": [
        "train.to_csv('TrainFinal.csv')"
      ],
      "metadata": {
        "id": "jZOapluVIJ1k"
      },
      "execution_count": null,
      "outputs": []
    },
    {
      "cell_type": "markdown",
      "source": [
        "----------------------\n",
        "----------------------\n",
        "----------------------\n",
        "\n",
        "Iteration 2:\n",
        "Starting the analysis again, there were some offline modifications made to the data set so we'll reimport.\n",
        "\n",
        "- ID column added: concatenated index column and Neighborhood column\n",
        "- observations where YrSold < YrBuilt"
      ],
      "metadata": {
        "id": "8v77lAze2YFK"
      }
    },
    {
      "cell_type": "code",
      "source": [
        "train2 = pd.read_csv('/content/drive/MyDrive/TrainFinal.csv')"
      ],
      "metadata": {
        "id": "0-bVQ0Sh22Xm"
      },
      "execution_count": null,
      "outputs": []
    },
    {
      "cell_type": "code",
      "source": [
        "safe_copy_train2 = pd.read_csv('/content/drive/MyDrive/TrainFinal.csv')"
      ],
      "metadata": {
        "id": "ZT8vfHzyDU3l"
      },
      "execution_count": null,
      "outputs": []
    },
    {
      "cell_type": "code",
      "source": [
        "test = pd.read_csv('/content/drive/MyDrive/TestFinal.csv')"
      ],
      "metadata": {
        "id": "LbN7GsIgRC-E"
      },
      "execution_count": null,
      "outputs": []
    },
    {
      "cell_type": "code",
      "source": [
        "safe_copy_test = pd.read_csv('/content/drive/MyDrive/TestFinal.csv')"
      ],
      "metadata": {
        "id": "XigJXwmHRIra"
      },
      "execution_count": null,
      "outputs": []
    },
    {
      "cell_type": "markdown",
      "source": [
        "We need to take a few steps to transform our Test set into the same formatting of the train:"
      ],
      "metadata": {
        "id": "A9H3hDBxbkFw"
      }
    },
    {
      "cell_type": "code",
      "source": [
        "test[['LotConfig', 'LotShape', 'LotArea', 'LotFrontage']] = test['LotInfo'].str.split(';',expand=True)"
      ],
      "metadata": {
        "id": "i185FUepbSAn"
      },
      "execution_count": null,
      "outputs": []
    },
    {
      "cell_type": "code",
      "source": [
        "test[['Exterior1st', 'ExterQual', 'ExterCond']] = test['Exterior'].str.split(';',expand=True)"
      ],
      "metadata": {
        "id": "GW3s-2XobiLo"
      },
      "execution_count": null,
      "outputs": []
    },
    {
      "cell_type": "code",
      "source": [
        "test = test[['SalePrice','Neighborhood','OverallQual','BedroomAbvGr','CentralAir','BsmtQual','Fireplaces','YrSold','HouseStyle','HeatingQC','GarageType','RoofMatl','PavedDrive','SaleType','FullBath','OpenPorchSF','RoofStyle','Utilities','BsmtFinSF1','Heating','KitchenQual','HalfBath','BsmtFinType1','WoodDeckSF','TotRmsAbvGrd','YearBuilt','BsmtCond','Foundation','Electrical','BldgType','OverallCond','GrLivArea','LotConfig','LotShape','LotArea','Exterior1st','ExterQual','ExterCond']]"
      ],
      "metadata": {
        "id": "KqYbJwu3dbHh"
      },
      "execution_count": null,
      "outputs": []
    },
    {
      "cell_type": "code",
      "source": [
        "test.info()"
      ],
      "metadata": {
        "id": "orld0JoTcuSs"
      },
      "execution_count": null,
      "outputs": []
    },
    {
      "cell_type": "code",
      "source": [
        "test_mapped = test[['SalePrice','Neighborhood','OverallQual','BedroomAbvGr','CentralAir','BsmtQual','Fireplaces','YrSold','HouseStyle','HeatingQC','GarageType','RoofMatl','PavedDrive','SaleType','FullBath','OpenPorchSF','RoofStyle','Utilities','BsmtFinSF1','Heating','KitchenQual','HalfBath','BsmtFinType1','WoodDeckSF','TotRmsAbvGrd','YearBuilt','BsmtCond','Foundation','Electrical','BldgType','OverallCond','GrLivArea','LotConfig','LotShape','LotArea','Exterior1st','ExterQual','ExterCond']]"
      ],
      "metadata": {
        "id": "PBlXtqo7d6NU"
      },
      "execution_count": null,
      "outputs": []
    },
    {
      "cell_type": "code",
      "source": [
        "d = {'CollegeCr': 0, 'Edwards': 1, 'OldTown': 2}\n",
        "test_mapped['Neighborhood'] = test_mapped['Neighborhood'].map(d)\n",
        "\n",
        "e = {'Y': 1, 'N': 0}\n",
        "test_mapped['CentralAir'] = test_mapped['CentralAir'].map(e)\n",
        "\n",
        "f = {'Ex': 0, 'Gd': 1, 'TA': 2, 'Fa': 3, 'NA': 4}\n",
        "test_mapped['BsmtQual'] = test_mapped['BsmtQual'].map(f)\n",
        "\n",
        "g = {'1Story': 0, '1.5Story': 1, '2Story': 2, '2.5Fin': 3}\n",
        "test_mapped['HouseStyle'] = test_mapped['HouseStyle'].map(g)\n",
        "\n",
        "h = {'Ex': 0, 'Gd': 1, 'TA': 2, 'Fa': 3, 'NA': 4}\n",
        "test_mapped['HeatingQC'] = test_mapped['HeatingQC'].map(h)\n",
        "\n",
        "i = {'Detchd': 0, 'Attchd': 1}\n",
        "test_mapped['GarageType'] = test_mapped['GarageType'].map(i)\n",
        "\n",
        "j = {'notCompShg': 0, 'CompShg': 1}\n",
        "test_mapped['RoofMatl'] = test_mapped['RoofMatl'].map(j)\n",
        "\n",
        "k = {'N': 0, 'Y': 1, 'P': 2}\n",
        "test_mapped['PavedDrive'] = test_mapped['PavedDrive'].map(k)\n",
        "\n",
        "l = {'notWD': 0, 'WD': 1}\n",
        "test_mapped['SaleType'] = test_mapped['SaleType'].map(l)\n",
        "\n",
        "m = {'Gable': 1, 'notGable': 0}\n",
        "test_mapped['RoofStyle'] = test_mapped['RoofStyle'].map(m)\n",
        "\n",
        "n = {'AllPub': 1}\n",
        "test_mapped['Utilities'] = test_mapped['Utilities'].map(n)\n",
        "\n",
        "o = {'GasA': 0, 'GasW': 1, 'Grav': 2}\n",
        "test_mapped['Heating'] = test_mapped['Heating'].map(o)\n",
        "\n",
        "p = {'Ex': 0, 'Gd': 1, 'TA': 2, 'Fa': 3, 'NA': 4}\n",
        "test_mapped['KitchenQual'] = test_mapped['KitchenQual'].map(p)\n",
        "\n",
        "q = {'ALQ': 0, 'BLQ': 1, 'GLQ': 2, 'Unf': 3}\n",
        "test_mapped['BsmtFinType1'] = test_mapped['BsmtFinType1'].map(q)\n",
        "\n",
        "r = {'TA': 1}\n",
        "test_mapped['BsmtCond'] = test_mapped['BsmtCond'].map(r)\n",
        "\n",
        "s = {'BrkTil': 0, 'CBlock': 1, 'PConc': 2}\n",
        "test_mapped['Foundation'] = test_mapped['Foundation'].map(s)\n",
        "\n",
        "t = {'SBrkr': 0, 'Fuse': 1}\n",
        "test_mapped['Electrical'] = test_mapped['Electrical'].map(t)\n",
        "\n",
        "u = {'1Fam': 0, '2fmCon': 1, 'Duplex': 2, 'Twnhs': 3}\n",
        "test_mapped['BldgType'] = test_mapped['BldgType'].map(u)\n",
        "\n",
        "v = {'Corner': 0, 'CulDSac': 1, 'FR2': 2, 'Inside': 3}\n",
        "test_mapped['LotConfig'] = test_mapped['LotConfig'].map(v)\n",
        "\n",
        "w = {'IR1': 0, 'IR2': 1, 'IR3': 2, 'Reg': 3}\n",
        "test_mapped['LotShape'] = test_mapped['LotShape'].map(w)\n",
        "\n",
        "xx = {'MetalSd': 0, 'OtherSd': 1, 'VinylSd': 2}\n",
        "test_mapped['Exterior1st'] = test_mapped['Exterior1st'].map(xx)\n",
        "\n",
        "yy = {'Gd': 1, 'TA': 0}\n",
        "test_mapped['ExterQual'] = test_mapped['ExterQual'].map(yy)\n",
        "\n",
        "z = {'Gd': 1, 'TA': 0}\n",
        "test_mapped['ExterCond'] = test_mapped['ExterCond'].map(z)"
      ],
      "metadata": {
        "id": "cnhRJa9Meg7U"
      },
      "execution_count": null,
      "outputs": []
    },
    {
      "cell_type": "markdown",
      "source": [
        "**EDA for the combined set**:"
      ],
      "metadata": {
        "id": "UpnWlxNCPZQu"
      }
    },
    {
      "cell_type": "code",
      "source": [
        "sns.set(rc={'figure.figsize':(11.7,8.27)})\n",
        "g = sns.displot(sns.displot(train2, x=\"SalePrice\", hue=\"Neighborhood\"))"
      ],
      "metadata": {
        "id": "Poh5zkxMPYWO"
      },
      "execution_count": null,
      "outputs": []
    },
    {
      "cell_type": "code",
      "source": [
        "sns.set(rc={'figure.figsize':(11.7,8.27)})\n",
        "g = sns.displot(sns.displot(train2, x=\"SalePrice\", hue=\"TotRmsAbvGrd\"))"
      ],
      "metadata": {
        "id": "OOUyKLHUQkTf"
      },
      "execution_count": null,
      "outputs": []
    },
    {
      "cell_type": "code",
      "source": [
        "sns.set(rc={'figure.figsize':(11.7,8.27)})\n",
        "g = sns.displot(sns.displot(train2, x=\"SalePrice\", hue=\"YrSold\"))"
      ],
      "metadata": {
        "id": "DDm813FaRYn9"
      },
      "execution_count": null,
      "outputs": []
    },
    {
      "cell_type": "code",
      "source": [
        "sns.heatmap(data = train2.corr())"
      ],
      "metadata": {
        "id": "Z9szq19Oa5cR"
      },
      "execution_count": null,
      "outputs": []
    },
    {
      "cell_type": "code",
      "source": [
        "train2.info()"
      ],
      "metadata": {
        "colab": {
          "base_uri": "https://localhost:8080/"
        },
        "id": "oZ4gD6Y4Tx-v",
        "outputId": "81911b01-f38d-4b88-f0ca-66d82760479d"
      },
      "execution_count": null,
      "outputs": [
        {
          "output_type": "stream",
          "name": "stdout",
          "text": [
            "<class 'pandas.core.frame.DataFrame'>\n",
            "RangeIndex: 218 entries, 0 to 217\n",
            "Data columns (total 41 columns):\n",
            " #   Column        Non-Null Count  Dtype  \n",
            "---  ------        --------------  -----  \n",
            " 0   Unnamed: 0    218 non-null    int64  \n",
            " 1   ID            218 non-null    object \n",
            " 2   Neighborhood  218 non-null    object \n",
            " 3   OverallQual   218 non-null    int64  \n",
            " 4   BedroomAbvGr  218 non-null    int64  \n",
            " 5   CentralAir    218 non-null    object \n",
            " 6   BsmtQual      218 non-null    object \n",
            " 7   Fireplaces    218 non-null    int64  \n",
            " 8   YrSold        218 non-null    int64  \n",
            " 9   HouseStyle    218 non-null    object \n",
            " 10  HeatingQC     218 non-null    object \n",
            " 11  GarageType    218 non-null    object \n",
            " 12  RoofMatl      218 non-null    object \n",
            " 13  PavedDrive    218 non-null    object \n",
            " 14  SaleType      218 non-null    object \n",
            " 15  FullBath      218 non-null    int64  \n",
            " 16  OpenPorchSF   218 non-null    int64  \n",
            " 17  RoofStyle     218 non-null    object \n",
            " 18  Utilities     218 non-null    object \n",
            " 19  BsmtFinSF1    218 non-null    int64  \n",
            " 20  Heating       218 non-null    object \n",
            " 21  KitchenQual   218 non-null    object \n",
            " 22  HalfBath      218 non-null    int64  \n",
            " 23  BsmtFinType1  218 non-null    object \n",
            " 24  WoodDeckSF    218 non-null    int64  \n",
            " 25  TotRmsAbvGrd  218 non-null    int64  \n",
            " 26  SalePrice     218 non-null    int64  \n",
            " 27  YearBuilt     218 non-null    int64  \n",
            " 28  BsmtCond      218 non-null    object \n",
            " 29  Foundation    218 non-null    object \n",
            " 30  Electrical    218 non-null    object \n",
            " 31  BldgType      218 non-null    object \n",
            " 32  OverallCond   218 non-null    int64  \n",
            " 33  GrLivArea     218 non-null    int64  \n",
            " 34  LotConfig     218 non-null    object \n",
            " 35  LotShape      218 non-null    object \n",
            " 36  LotArea       218 non-null    int64  \n",
            " 37  LotFrontage   192 non-null    float64\n",
            " 38  Exterior1st   218 non-null    object \n",
            " 39  ExterQual     218 non-null    object \n",
            " 40  ExterCond     218 non-null    object \n",
            "dtypes: float64(1), int64(16), object(24)\n",
            "memory usage: 70.0+ KB\n"
          ]
        }
      ]
    },
    {
      "cell_type": "markdown",
      "source": [
        "Dimension Reduction: ANOVA"
      ],
      "metadata": {
        "id": "F6VeTKmFhrPs"
      }
    },
    {
      "cell_type": "code",
      "source": [
        "train2.info()"
      ],
      "metadata": {
        "id": "bWsRCzoRVl8t"
      },
      "execution_count": null,
      "outputs": []
    },
    {
      "cell_type": "code",
      "source": [
        "#ANOVA with all variables (except ID)\n",
        "model = smf.ols(formula='SalePrice ~ Neighborhood + OverallQual + BedroomAbvGr + CentralAir + BsmtQual + Fireplaces + YrSold + HouseStyle + HeatingQC + GarageType + RoofMatl + PavedDrive + SaleType + FullBath + OpenPorchSF + RoofStyle + Utilities + BsmtFinSF1 + Heating + KitchenQual + HalfBath + BsmtFinType1 + WoodDeckSF + TotRmsAbvGrd + YearBuilt + BsmtCond + Foundation + Electrical + BldgType + OverallCond + GrLivArea + LotConfig + LotShape + LotArea + LotFrontage + Exterior1st + ExterQual + ExterCond', data=train2)"
      ],
      "metadata": {
        "id": "lqDOedRRhwHV"
      },
      "execution_count": null,
      "outputs": []
    },
    {
      "cell_type": "code",
      "source": [
        "Fit_model = model.fit()\n",
        "Fit_model.summary()"
      ],
      "metadata": {
        "id": "U_jW1eTWk5FP"
      },
      "execution_count": null,
      "outputs": []
    },
    {
      "cell_type": "code",
      "source": [
        "#Now a Type III One-Way ANOVA model\n",
        "smapi.stats.anova_lm(Fit_model, typ=3)"
      ],
      "metadata": {
        "id": "x29kF-LRlI4Q"
      },
      "execution_count": null,
      "outputs": []
    },
    {
      "cell_type": "markdown",
      "source": [
        "We want to look at 3 different models to predict our response SalePrice: mutliple linear regression, support vector regression, and random forest.\n",
        "\n",
        "Before we get into any of that, we need to work on our dimension reduction and check model assumptions."
      ],
      "metadata": {
        "id": "7kHLjsm90IHN"
      }
    },
    {
      "cell_type": "markdown",
      "source": [
        "Dimension Reduction: PCA on our continuous data"
      ],
      "metadata": {
        "id": "gN25zLQF-63H"
      }
    },
    {
      "cell_type": "code",
      "source": [
        "train2.info()"
      ],
      "metadata": {
        "id": "S3m-LjG85AxT"
      },
      "execution_count": null,
      "outputs": []
    },
    {
      "cell_type": "code",
      "source": [
        "pca_prep = train2[['OverallQual', 'BedroomAbvGr', 'Fireplaces', 'YrSold', 'FullBath', 'OpenPorchSF', 'BsmtFinSF1', 'HalfBath', 'WoodDeckSF', 'TotRmsAbvGrd', 'SalePrice', 'YearBuilt', 'OverallCond', 'GrLivArea', 'LotArea']]"
      ],
      "metadata": {
        "id": "ngn-KeN45HXR"
      },
      "execution_count": null,
      "outputs": []
    },
    {
      "cell_type": "markdown",
      "source": [
        "Let's get to the bit about scaling:"
      ],
      "metadata": {
        "id": "2frgF_v45u0j"
      }
    },
    {
      "cell_type": "code",
      "source": [
        "scaler = StandardScaler()\n",
        "scaler.fit(pca_prep)\n",
        "train_scaled = scaler.transform(pca_prep[['OverallQual', 'BedroomAbvGr', 'Fireplaces', 'YrSold', 'FullBath', 'OpenPorchSF', 'BsmtFinSF1', 'HalfBath', 'WoodDeckSF', 'TotRmsAbvGrd', 'SalePrice', 'YearBuilt', 'OverallCond', 'GrLivArea', 'LotArea']])"
      ],
      "metadata": {
        "id": "ceIiiSJb5t-V"
      },
      "execution_count": null,
      "outputs": []
    },
    {
      "cell_type": "code",
      "source": [
        "#we're starting with 10 before we can make our selection for the optimal number\n",
        "pca = PCA(n_components=10)"
      ],
      "metadata": {
        "id": "MU7Q_3ho5_Wq"
      },
      "execution_count": null,
      "outputs": []
    },
    {
      "cell_type": "code",
      "source": [
        "pca_model = pca_fit = pca.fit(train_scaled)"
      ],
      "metadata": {
        "id": "LPcH2HAC3VpH"
      },
      "execution_count": null,
      "outputs": []
    },
    {
      "cell_type": "markdown",
      "source": [
        "Now onto the PC scores:"
      ],
      "metadata": {
        "id": "9dZycAkD8Bm1"
      }
    },
    {
      "cell_type": "code",
      "source": [
        "PC_scores = pd.DataFrame(pca.fit_transform(train_scaled),\n",
        "               columns = ['PC 1', 'PC 2', 'PC 3', 'PC 4', 'PC 5', 'PC 6', 'PC 7', 'PC 8', 'PC 9', 'PC 10'])\n",
        "PC_scores.head(6)"
      ],
      "metadata": {
        "id": "jdcVTHaG7fS_"
      },
      "execution_count": null,
      "outputs": []
    },
    {
      "cell_type": "markdown",
      "source": [
        "Quite a lot of into above. Let's take a look at the loading scores:"
      ],
      "metadata": {
        "id": "uJz47W2M8HBw"
      }
    },
    {
      "cell_type": "code",
      "source": [
        "loadings = pd.DataFrame(pca.components_.T, columns=['PC 1', 'PC 2', 'PC 3', 'PC 4', 'PC 5', 'PC 6', 'PC 7', 'PC 8', 'PC 9', 'PC 10'], index=['OverallQual', 'BedroomAbvGr', 'Fireplaces', 'YrSold', 'FullBath', 'OpenPorchSF', 'BsmtFinSF1', 'HalfBath', 'WoodDeckSF', 'TotRmsAbvGrd', 'SalePrice', 'YearBuilt', 'OverallCond', 'GrLivArea', 'LotArea'])\n",
        "loadings"
      ],
      "metadata": {
        "id": "SmiBCWDH8Lki"
      },
      "execution_count": null,
      "outputs": []
    },
    {
      "cell_type": "markdown",
      "source": [
        "Next step is the scree plot. This is our step to figure out actually how many principal components we need before it becomes disproportionately extra calculations with not much help."
      ],
      "metadata": {
        "id": "hxFdJB7c3bG0"
      }
    },
    {
      "cell_type": "code",
      "source": [
        "PC_values = np.arange(pca.n_components_) + 1\n",
        "plt.plot(PC_values, pca.explained_variance_ratio_, 'o-', linewidth=2, color='blue')\n",
        "plt.title('Scree Plot')\n",
        "plt.xlabel('Principal Component')\n",
        "plt.ylabel('Variance Explained')\n",
        "plt.show()"
      ],
      "metadata": {
        "id": "FLBwQ6_Q3wID"
      },
      "execution_count": null,
      "outputs": []
    },
    {
      "cell_type": "markdown",
      "source": [
        "The plot shows significant variance being explained for the first PC, the second PC, and arguably the third PC. But after the fourth, the variance explained contribution drops fairly considerably, there's not that much being contributed per component for how much extra work it involves."
      ],
      "metadata": {
        "id": "zdPY3D_y338v"
      }
    },
    {
      "cell_type": "markdown",
      "source": [
        "Going forward, we're going to be using details from the first three PC's."
      ],
      "metadata": {
        "id": "GRSbuVjL5Zwq"
      }
    },
    {
      "cell_type": "markdown",
      "source": [
        "Now, onto the Biplot:"
      ],
      "metadata": {
        "id": "iNwcP3qX5oMI"
      }
    },
    {
      "cell_type": "code",
      "source": [
        "PC1 = pca.fit_transform(train_scaled)[:,0]\n",
        "PC2 = pca.fit_transform(train_scaled)[:,1]\n",
        "ldngs = pca.components_"
      ],
      "metadata": {
        "id": "76s0WUSx5Nvl"
      },
      "execution_count": null,
      "outputs": []
    },
    {
      "cell_type": "code",
      "source": [
        "scalePC1 = 1.0/(PC1.max() - PC1.min())\n",
        "scalePC2 = 1.0/(PC2.max() - PC2.min())\n",
        "features = ['OverallQual', 'BedroomAbvGr', 'Fireplaces', 'YrSold', 'FullBath', 'OpenPorchSF', 'BsmtFinSF1', 'HalfBath', 'WoodDeckSF', 'TotRmsAbvGrd', 'SalePrice', 'YearBuilt', 'OverallCond', 'GrLivArea', 'LotArea']"
      ],
      "metadata": {
        "id": "kej8G8-55yZC"
      },
      "execution_count": null,
      "outputs": []
    },
    {
      "cell_type": "code",
      "source": [
        "fig, ax = plt.subplots(figsize=(14, 9))\n",
        "\n",
        "for i, feature in enumerate(features):\n",
        "    ax.arrow(0, 0, ldngs[0, i],\n",
        "             ldngs[1, i])\n",
        "    ax.text(ldngs[0, i] * 1.15,\n",
        "            ldngs[1, i] * 1.15,\n",
        "            feature, fontsize=18)\n",
        "\n",
        "ax.scatter(PC1 * scalePC1,PC2 * scalePC2)\n",
        "\n",
        "ax.set_xlabel('PC1', fontsize=20)\n",
        "ax.set_ylabel('PC2', fontsize=20)\n",
        "ax.set_title('PCA Biplot', fontsize=20)"
      ],
      "metadata": {
        "id": "sR10rsovm6xK"
      },
      "execution_count": null,
      "outputs": []
    },
    {
      "cell_type": "markdown",
      "source": [
        "----------------------------------------------------------------------------\n",
        "\n",
        "----------------------------------------------------------------------------\n",
        "\n",
        "----------------------------------------------------------------------------"
      ],
      "metadata": {
        "id": "h7_7Vz64kYE-"
      }
    },
    {
      "cell_type": "markdown",
      "source": [
        "Multiple Correspondence Analysis"
      ],
      "metadata": {
        "id": "1fNMrfgEEhBh"
      }
    },
    {
      "cell_type": "code",
      "source": [],
      "metadata": {
        "id": "izAYBXjIurWh"
      },
      "execution_count": null,
      "outputs": []
    },
    {
      "cell_type": "markdown",
      "source": [
        "----------------------------------------------------------------------------\n",
        "\n",
        "----------------------------------------------------------------------------"
      ],
      "metadata": {
        "id": "uVrFDViAk4bQ"
      }
    },
    {
      "cell_type": "markdown",
      "source": [
        "In this section, we map EVERYTHING for future use"
      ],
      "metadata": {
        "id": "McECf-V-Ea8e"
      }
    },
    {
      "cell_type": "code",
      "source": [
        "train3 = train2[['SalePrice','Neighborhood','OverallQual','BedroomAbvGr','CentralAir','BsmtQual','Fireplaces','YrSold','HouseStyle','HeatingQC','GarageType','RoofMatl','PavedDrive','SaleType','FullBath','OpenPorchSF','RoofStyle','Utilities','BsmtFinSF1','Heating','KitchenQual','HalfBath','BsmtFinType1','WoodDeckSF','TotRmsAbvGrd','YearBuilt','BsmtCond','Foundation','Electrical','BldgType','OverallCond','GrLivArea','LotConfig','LotShape','LotArea','Exterior1st','ExterQual','ExterCond']]"
      ],
      "metadata": {
        "id": "Urs38uZqEaJR"
      },
      "execution_count": null,
      "outputs": []
    },
    {
      "cell_type": "code",
      "source": [
        "#variable mapping\n",
        "d = {'CollegeCr': 0, 'Edwards': 1, 'OldTown': 2}\n",
        "train3['Neighborhood'] = train3['Neighborhood'].map(d)\n",
        "\n",
        "e = {'Y': 1, 'N': 0}\n",
        "train3['CentralAir'] = train3['CentralAir'].map(e)\n",
        "\n",
        "f = {'Ex': 0, 'Gd': 1, 'TA': 2, 'Fa': 3, 'NA': 4}\n",
        "train3['BsmtQual'] = train3['BsmtQual'].map(f)\n",
        "\n",
        "g = {'1Story': 0, '1.5Story': 1, '2Story': 2, '2.5Fin': 3}\n",
        "train3['HouseStyle'] = train3['HouseStyle'].map(g)\n",
        "\n",
        "h = {'Ex': 0, 'Gd': 1, 'TA': 2, 'Fa': 3, 'NA': 4}\n",
        "train3['HeatingQC'] = train3['HeatingQC'].map(h)\n",
        "\n",
        "i = {'Detchd': 0, 'Attchd': 1}\n",
        "train3['GarageType'] = train3['GarageType'].map(i)\n",
        "\n",
        "j = {'notCompShg': 0, 'CompShg': 1}\n",
        "train3['RoofMatl'] = train3['RoofMatl'].map(j)\n",
        "\n",
        "k = {'N': 0, 'Y': 1, 'P': 2}\n",
        "train3['PavedDrive'] = train3['PavedDrive'].map(k)\n",
        "\n",
        "l = {'notWD': 0, 'WD': 1}\n",
        "train3['SaleType'] = train3['SaleType'].map(l)\n",
        "\n",
        "m = {'Gable': 1, 'notGable': 0}\n",
        "train3['RoofStyle'] = train3['RoofStyle'].map(m)\n",
        "\n",
        "n = {'AllPub': 1}\n",
        "train3['Utilities'] = train3['Utilities'].map(n)\n",
        "\n",
        "o = {'GasA': 0, 'GasW': 1, 'Grav': 2}\n",
        "train3['Heating'] = train3['Heating'].map(o)\n",
        "\n",
        "p = {'Ex': 0, 'Gd': 1, 'TA': 2, 'Fa': 3, 'NA': 4}\n",
        "train3['KitchenQual'] = train3['KitchenQual'].map(p)\n",
        "\n",
        "q = {'ALQ': 0, 'BLQ': 1, 'GLQ': 2, 'Unf': 3}\n",
        "train3['BsmtFinType1'] = train3['BsmtFinType1'].map(q)\n",
        "\n",
        "r = {'TA': 1}\n",
        "train3['BsmtCond'] = train3['BsmtCond'].map(r)\n",
        "\n",
        "s = {'BrkTil': 0, 'CBlock': 1, 'PConc': 2}\n",
        "train3['Foundation'] = train3['Foundation'].map(s)\n",
        "\n",
        "t = {'SBrkr': 0, 'Fuse': 1}\n",
        "train3['Electrical'] = train3['Electrical'].map(t)\n",
        "\n",
        "u = {'1Fam': 0, '2fmCon': 1, 'Duplex': 2, 'Twnhs': 3}\n",
        "train3['BldgType'] = train3['BldgType'].map(u)\n",
        "\n",
        "v = {'Corner': 0, 'CulDSac': 1, 'FR2': 2, 'Inside': 3}\n",
        "train3['LotConfig'] = train3['LotConfig'].map(v)\n",
        "\n",
        "w = {'IR1': 0, 'IR2': 1, 'IR3': 2, 'Reg': 3}\n",
        "train3['LotShape'] = train3['LotShape'].map(w)\n",
        "\n",
        "xx = {'MetalSd': 0, 'OtherSd': 1, 'VinylSd': 2}\n",
        "train3['Exterior1st'] = train3['Exterior1st'].map(xx)\n",
        "\n",
        "yy = {'Gd': 1, 'TA': 0}\n",
        "train3['ExterQual'] = train3['ExterQual'].map(yy)\n",
        "\n",
        "z = {'Gd': 1, 'TA': 0}\n",
        "train3['ExterCond'] = train3['ExterCond'].map(z)"
      ],
      "metadata": {
        "id": "6E9yjUKFEqCm"
      },
      "execution_count": null,
      "outputs": []
    },
    {
      "cell_type": "code",
      "source": [
        "train3.info() #checking the data types"
      ],
      "metadata": {
        "id": "ye0NJkuVGN9J"
      },
      "execution_count": null,
      "outputs": []
    },
    {
      "cell_type": "code",
      "source": [
        "train4 = train3.dropna() #since we somehow have a few missing values, we drop these"
      ],
      "metadata": {
        "id": "7nXlBdK_HKOo"
      },
      "execution_count": null,
      "outputs": []
    },
    {
      "cell_type": "code",
      "source": [
        "train4.isna().sum()"
      ],
      "metadata": {
        "id": "iGPM3VpEHe0c"
      },
      "execution_count": null,
      "outputs": []
    },
    {
      "cell_type": "code",
      "source": [
        "train4['HouseStyle'] = train4['HouseStyle'].astype(int) #convert float to in as they are 2.0 => 2"
      ],
      "metadata": {
        "id": "JLTXbSJGGldP"
      },
      "execution_count": null,
      "outputs": []
    },
    {
      "cell_type": "code",
      "source": [
        "train4.head(20) #looks good"
      ],
      "metadata": {
        "id": "qrgbuiMhGR9g"
      },
      "execution_count": null,
      "outputs": []
    },
    {
      "cell_type": "markdown",
      "source": [
        "----------------------------------------------------------------------------\n",
        "\n",
        "----------------------------------------------------------------------------"
      ],
      "metadata": {
        "id": "f-1sFKXSEoLx"
      }
    },
    {
      "cell_type": "markdown",
      "source": [
        "Multiple Linear Regression"
      ],
      "metadata": {
        "id": "g-BvCGM3g_7U"
      }
    },
    {
      "cell_type": "code",
      "source": [
        "train4.info()"
      ],
      "metadata": {
        "id": "cxRMipsMAYp9"
      },
      "execution_count": null,
      "outputs": []
    },
    {
      "cell_type": "code",
      "source": [
        "#First with the entire set\n",
        "x = train4[['Neighborhood','OverallQual','BedroomAbvGr','CentralAir','BsmtQual','Fireplaces','YrSold','HeatingQC','GarageType','RoofMatl','PavedDrive','SaleType','FullBath','OpenPorchSF','RoofStyle','Utilities','BsmtFinSF1','Heating','KitchenQual','HalfBath','BsmtFinType1','WoodDeckSF','TotRmsAbvGrd','YearBuilt','BsmtCond','Foundation','Electrical','BldgType','OverallCond','GrLivArea','LotConfig','LotShape','LotArea','Exterior1st','ExterQual','ExterCond']]\n",
        "x = smapi.add_constant(x)\n",
        "#x -= np.average(x)\n",
        "y = train4['SalePrice']\n"
      ],
      "metadata": {
        "id": "t8Zte8ktWYYB"
      },
      "execution_count": null,
      "outputs": []
    },
    {
      "cell_type": "code",
      "source": [
        "#fit linear regression model\n",
        "model = smapi.OLS(y, x).fit()\n",
        "print(model.summary())"
      ],
      "metadata": {
        "id": "JLj8biKDlHGk"
      },
      "execution_count": null,
      "outputs": []
    },
    {
      "cell_type": "code",
      "source": [
        "print(model.mse_total)"
      ],
      "metadata": {
        "id": "z4FAGBGwyPGK"
      },
      "execution_count": null,
      "outputs": []
    },
    {
      "cell_type": "code",
      "source": [
        "print(model.mse_resid)"
      ],
      "metadata": {
        "id": "znQEyeC8yURH"
      },
      "execution_count": null,
      "outputs": []
    },
    {
      "cell_type": "markdown",
      "source": [
        "**From the above results, we have the following model with **"
      ],
      "metadata": {
        "id": "w2qAvij4wPFw"
      }
    },
    {
      "cell_type": "code",
      "source": [
        "#a different model attempt\n",
        "x = train4[['Neighborhood','OverallQual','BedroomAbvGr','CentralAir','BsmtQual','Fireplaces','YrSold','HeatingQC','GarageType','RoofMatl','PavedDrive','SaleType','FullBath','OpenPorchSF','RoofStyle','Utilities','BsmtFinSF1','Heating','KitchenQual','HalfBath','BsmtFinType1','WoodDeckSF','TotRmsAbvGrd','YearBuilt','BsmtCond','Foundation','Electrical','BldgType','OverallCond','GrLivArea','LotConfig','LotShape','LotArea','Exterior1st','ExterQual','ExterCond']]\n",
        "y = train4['SalePrice']\n",
        "\n",
        "regr = linear_model.LinearRegression()\n",
        "regr.fit(x,y)"
      ],
      "metadata": {
        "colab": {
          "base_uri": "https://localhost:8080/",
          "height": 75
        },
        "id": "rW8UBWfx0pUj",
        "outputId": "c2e49cfe-83a1-4256-d5fe-f4ae5020f822"
      },
      "execution_count": null,
      "outputs": [
        {
          "output_type": "execute_result",
          "data": {
            "text/plain": [
              "LinearRegression()"
            ],
            "text/html": [
              "<style>#sk-container-id-2 {color: black;background-color: white;}#sk-container-id-2 pre{padding: 0;}#sk-container-id-2 div.sk-toggleable {background-color: white;}#sk-container-id-2 label.sk-toggleable__label {cursor: pointer;display: block;width: 100%;margin-bottom: 0;padding: 0.3em;box-sizing: border-box;text-align: center;}#sk-container-id-2 label.sk-toggleable__label-arrow:before {content: \"▸\";float: left;margin-right: 0.25em;color: #696969;}#sk-container-id-2 label.sk-toggleable__label-arrow:hover:before {color: black;}#sk-container-id-2 div.sk-estimator:hover label.sk-toggleable__label-arrow:before {color: black;}#sk-container-id-2 div.sk-toggleable__content {max-height: 0;max-width: 0;overflow: hidden;text-align: left;background-color: #f0f8ff;}#sk-container-id-2 div.sk-toggleable__content pre {margin: 0.2em;color: black;border-radius: 0.25em;background-color: #f0f8ff;}#sk-container-id-2 input.sk-toggleable__control:checked~div.sk-toggleable__content {max-height: 200px;max-width: 100%;overflow: auto;}#sk-container-id-2 input.sk-toggleable__control:checked~label.sk-toggleable__label-arrow:before {content: \"▾\";}#sk-container-id-2 div.sk-estimator input.sk-toggleable__control:checked~label.sk-toggleable__label {background-color: #d4ebff;}#sk-container-id-2 div.sk-label input.sk-toggleable__control:checked~label.sk-toggleable__label {background-color: #d4ebff;}#sk-container-id-2 input.sk-hidden--visually {border: 0;clip: rect(1px 1px 1px 1px);clip: rect(1px, 1px, 1px, 1px);height: 1px;margin: -1px;overflow: hidden;padding: 0;position: absolute;width: 1px;}#sk-container-id-2 div.sk-estimator {font-family: monospace;background-color: #f0f8ff;border: 1px dotted black;border-radius: 0.25em;box-sizing: border-box;margin-bottom: 0.5em;}#sk-container-id-2 div.sk-estimator:hover {background-color: #d4ebff;}#sk-container-id-2 div.sk-parallel-item::after {content: \"\";width: 100%;border-bottom: 1px solid gray;flex-grow: 1;}#sk-container-id-2 div.sk-label:hover label.sk-toggleable__label {background-color: #d4ebff;}#sk-container-id-2 div.sk-serial::before {content: \"\";position: absolute;border-left: 1px solid gray;box-sizing: border-box;top: 0;bottom: 0;left: 50%;z-index: 0;}#sk-container-id-2 div.sk-serial {display: flex;flex-direction: column;align-items: center;background-color: white;padding-right: 0.2em;padding-left: 0.2em;position: relative;}#sk-container-id-2 div.sk-item {position: relative;z-index: 1;}#sk-container-id-2 div.sk-parallel {display: flex;align-items: stretch;justify-content: center;background-color: white;position: relative;}#sk-container-id-2 div.sk-item::before, #sk-container-id-2 div.sk-parallel-item::before {content: \"\";position: absolute;border-left: 1px solid gray;box-sizing: border-box;top: 0;bottom: 0;left: 50%;z-index: -1;}#sk-container-id-2 div.sk-parallel-item {display: flex;flex-direction: column;z-index: 1;position: relative;background-color: white;}#sk-container-id-2 div.sk-parallel-item:first-child::after {align-self: flex-end;width: 50%;}#sk-container-id-2 div.sk-parallel-item:last-child::after {align-self: flex-start;width: 50%;}#sk-container-id-2 div.sk-parallel-item:only-child::after {width: 0;}#sk-container-id-2 div.sk-dashed-wrapped {border: 1px dashed gray;margin: 0 0.4em 0.5em 0.4em;box-sizing: border-box;padding-bottom: 0.4em;background-color: white;}#sk-container-id-2 div.sk-label label {font-family: monospace;font-weight: bold;display: inline-block;line-height: 1.2em;}#sk-container-id-2 div.sk-label-container {text-align: center;}#sk-container-id-2 div.sk-container {/* jupyter's `normalize.less` sets `[hidden] { display: none; }` but bootstrap.min.css set `[hidden] { display: none !important; }` so we also need the `!important` here to be able to override the default hidden behavior on the sphinx rendered scikit-learn.org. See: https://github.com/scikit-learn/scikit-learn/issues/21755 */display: inline-block !important;position: relative;}#sk-container-id-2 div.sk-text-repr-fallback {display: none;}</style><div id=\"sk-container-id-2\" class=\"sk-top-container\"><div class=\"sk-text-repr-fallback\"><pre>LinearRegression()</pre><b>In a Jupyter environment, please rerun this cell to show the HTML representation or trust the notebook. <br />On GitHub, the HTML representation is unable to render, please try loading this page with nbviewer.org.</b></div><div class=\"sk-container\" hidden><div class=\"sk-item\"><div class=\"sk-estimator sk-toggleable\"><input class=\"sk-toggleable__control sk-hidden--visually\" id=\"sk-estimator-id-2\" type=\"checkbox\" checked><label for=\"sk-estimator-id-2\" class=\"sk-toggleable__label sk-toggleable__label-arrow\">LinearRegression</label><div class=\"sk-toggleable__content\"><pre>LinearRegression()</pre></div></div></div></div></div>"
            ]
          },
          "metadata": {},
          "execution_count": 28
        }
      ]
    },
    {
      "cell_type": "code",
      "source": [
        "test_MLR = test_mapped[['Neighborhood','OverallQual','BedroomAbvGr','CentralAir','BsmtQual','Fireplaces','YrSold','HeatingQC','GarageType','RoofMatl','PavedDrive','SaleType','FullBath','OpenPorchSF','RoofStyle','Utilities','BsmtFinSF1','Heating','KitchenQual','HalfBath','BsmtFinType1','WoodDeckSF','TotRmsAbvGrd','YearBuilt','BsmtCond','Foundation','Electrical','BldgType','OverallCond','GrLivArea','LotConfig','LotShape','LotArea','Exterior1st','ExterQual','ExterCond']]"
      ],
      "metadata": {
        "id": "BVCgCxK8fVCd"
      },
      "execution_count": null,
      "outputs": []
    },
    {
      "cell_type": "code",
      "source": [
        "test_MLR.isna().sum()"
      ],
      "metadata": {
        "id": "h6c_Ouh5fijC"
      },
      "execution_count": null,
      "outputs": []
    },
    {
      "cell_type": "code",
      "source": [
        "test_MLR_na = test_MLR.dropna()"
      ],
      "metadata": {
        "id": "fnq-a5Upgfc7"
      },
      "execution_count": null,
      "outputs": []
    },
    {
      "cell_type": "code",
      "source": [
        "predict = regr.predict(test_MLR_na)\n",
        "#for i in range(len(test_MLR_na)):\n",
        "#  print(\"X=%s, Predicted=%s\" % (test_MLR_na[i], test_MLR_na[i]))\n",
        "predict"
      ],
      "metadata": {
        "colab": {
          "base_uri": "https://localhost:8080/"
        },
        "id": "-u_o1hSnXlQD",
        "outputId": "2b5d8d9e-073a-44b7-b5c9-560ccde494b5"
      },
      "execution_count": null,
      "outputs": [
        {
          "output_type": "execute_result",
          "data": {
            "text/plain": [
              "array([278893.68127161, 141868.94806995, 129505.3938858 , 236530.59122743,\n",
              "       217140.13431111, 206124.48189637, 201943.57956215, 261236.12394682,\n",
              "       248368.98857277, 237036.44659846, 295985.59890618, 194373.55988347,\n",
              "       132414.13193629, 176057.46004612, 257477.2973875 , 222461.89622824,\n",
              "       267278.89606749, 194693.30524999, 221330.42370985, 227232.90606983,\n",
              "       159780.57777804, 225717.0502303 , 201371.43497828, 126099.74467429,\n",
              "       254420.16879828, 215752.56242974, 157451.3237438 , 143231.72826874,\n",
              "       160325.05076867,  81535.43250542, 146858.70396315, 569866.73777331,\n",
              "       126808.93592888, 101653.71652756, 108800.80210007, 120064.99543059,\n",
              "        97354.97341579,  97673.95220332, 164763.54822056,  85559.08922329,\n",
              "       126143.18062701, 140394.83703696, 157158.62393333, 122081.24642878,\n",
              "       169106.6644168 , 114169.79718369,  61005.07869064, 163169.0009764 ,\n",
              "       110546.41110737, 153041.46712305, 100756.60096453,  68733.6419543 ,\n",
              "        75248.4606408 ])"
            ]
          },
          "metadata": {},
          "execution_count": 85
        }
      ]
    },
    {
      "cell_type": "markdown",
      "source": [
        "This one gives us results but is not robust enough for our predictions with missing values. Ultimately, we have to throw these results out."
      ],
      "metadata": {
        "id": "XzgsGboN2Jis"
      }
    },
    {
      "cell_type": "markdown",
      "source": [
        "----------------------------------------------------------------------------\n",
        "\n",
        "----------------------------------------------------------------------------"
      ],
      "metadata": {
        "id": "X208xaXgk-aY"
      }
    },
    {
      "cell_type": "markdown",
      "source": [
        "**Random Forest/ Decision Tree**:\n",
        "\n",
        "Since this model only uses numerical values, we'll use the mapping from above. Now onto the good stuff:"
      ],
      "metadata": {
        "id": "2g_xNXMsgBG5"
      }
    },
    {
      "cell_type": "code",
      "source": [
        "train3[['SalePrice','Neighborhood','OverallQual','BedroomAbvGr','CentralAir','BsmtQual','Fireplaces','YrSold','HouseStyle','HeatingQC','GarageType','RoofMatl','PavedDrive','SaleType','FullBath','OpenPorchSF','RoofStyle','Utilities','BsmtFinSF1','Heating','KitchenQual','HalfBath','BsmtFinType1','WoodDeckSF','TotRmsAbvGrd','YearBuilt','BsmtCond','Foundation','Electrical','BldgType','OverallCond','GrLivArea','LotConfig','LotShape','LotArea','Exterior1st','ExterQual','ExterCond']]"
      ],
      "metadata": {
        "id": "Xyy6Xqxu0m4k"
      },
      "execution_count": null,
      "outputs": []
    },
    {
      "cell_type": "code",
      "source": [
        "train3[['Neighborhood','OverallQual','BedroomAbvGr','CentralAir','BsmtQual','Fireplaces','YrSold','HouseStyle','HeatingQC','GarageType','RoofMatl','PavedDrive','SaleType','FullBath','OpenPorchSF','RoofStyle','Utilities','BsmtFinSF1','Heating','KitchenQual','HalfBath','BsmtFinType1','WoodDeckSF','TotRmsAbvGrd','YearBuilt','BsmtCond','Foundation','Electrical','BldgType','OverallCond','GrLivArea','LotConfig','LotShape','LotArea','Exterior1st','ExterQual','ExterCond']].isna().sum()"
      ],
      "metadata": {
        "id": "0moxuBHZ0snu"
      },
      "execution_count": null,
      "outputs": []
    },
    {
      "cell_type": "code",
      "source": [
        "#the entire set minus LotFrontage\n",
        "features = ['Neighborhood','OverallQual','BedroomAbvGr','CentralAir','BsmtQual','Fireplaces','YrSold','HeatingQC','GarageType','RoofMatl','PavedDrive','SaleType','FullBath','OpenPorchSF','RoofStyle','Utilities','BsmtFinSF1','Heating','KitchenQual','HalfBath','BsmtFinType1','WoodDeckSF','TotRmsAbvGrd','YearBuilt','BsmtCond','Foundation','Electrical','BldgType','OverallCond','GrLivArea','LotConfig','LotShape','LotArea','Exterior1st','ExterQual','ExterCond']\n",
        "\n",
        "x = train3[['Neighborhood','OverallQual','BedroomAbvGr','CentralAir','BsmtQual','Fireplaces','YrSold','HeatingQC','GarageType','RoofMatl','PavedDrive','SaleType','FullBath','OpenPorchSF','RoofStyle','Utilities','BsmtFinSF1','Heating','KitchenQual','HalfBath','BsmtFinType1','WoodDeckSF','TotRmsAbvGrd','YearBuilt','BsmtCond','Foundation','Electrical','BldgType','OverallCond','GrLivArea','LotConfig','LotShape','LotArea','Exterior1st','ExterQual','ExterCond']]\n",
        "y = train3['SalePrice']\n",
        "\n",
        "dtree = DecisionTreeClassifier()\n",
        "dtree = dtree.fit(x, y)"
      ],
      "metadata": {
        "id": "Mqcln90Bgnwb"
      },
      "execution_count": null,
      "outputs": []
    },
    {
      "cell_type": "code",
      "source": [
        "tree.plot_tree(dtree, feature_names=['Neighborhood','OverallQual','BedroomAbvGr','CentralAir','BsmtQual','Fireplaces','YrSold','HeatingQC','GarageType','RoofMatl','PavedDrive','SaleType','FullBath','OpenPorchSF','RoofStyle','Utilities','BsmtFinSF1','Heating','KitchenQual','HalfBath','BsmtFinType1','WoodDeckSF','TotRmsAbvGrd','YearBuilt','BsmtCond','Foundation','Electrical','BldgType','OverallCond','GrLivArea','LotConfig','LotShape','LotArea','Exterior1st','ExterQual','ExterCond'])"
      ],
      "metadata": {
        "id": "r-yrElipz__4"
      },
      "execution_count": null,
      "outputs": []
    },
    {
      "cell_type": "markdown",
      "source": [
        "We need to import our test data set to see what we can get out of this:"
      ],
      "metadata": {
        "id": "Kvp2rh5c7bMn"
      }
    },
    {
      "cell_type": "code",
      "source": [
        "test_MLR_na.head(70)"
      ],
      "metadata": {
        "id": "0O77U5Wf7aTj"
      },
      "execution_count": null,
      "outputs": []
    },
    {
      "cell_type": "code",
      "source": [
        "#Prediction\n",
        "print(dtree.predict(test_MLR_na))"
      ],
      "metadata": {
        "id": "MgHlBlBq0LB0",
        "colab": {
          "base_uri": "https://localhost:8080/"
        },
        "outputId": "70e1c437-28b3-444c-9354-12086e54a19d"
      },
      "execution_count": null,
      "outputs": [
        {
          "output_type": "stream",
          "name": "stdout",
          "text": [
            "[260000 144000 112500 192500 204900 194000 173900 475000 191000 255900\n",
            " 295493 196500 136500 220000 203000 287000 230000 176432 194000 222500\n",
            " 155900 211000 192000 149900 228500 191000 130500 130000 122000 129000\n",
            " 206000 320000 185000 113000 110000 187100 125000 105000 123000 125000\n",
            " 104900  95000 112000 107000 130000 163000 100000 143000 130000 224900\n",
            " 122500 100000 194000]\n"
          ]
        }
      ]
    },
    {
      "cell_type": "markdown",
      "source": [
        "This one gives us results but is not robust enough for our predictions with missing values. Ultimately, we have to throw these results out."
      ],
      "metadata": {
        "id": "VANV36sN3Ikd"
      }
    },
    {
      "cell_type": "markdown",
      "source": [
        "----------------------------------------------------------------------------\n",
        "\n",
        "----------------------------------------------------------------------------"
      ],
      "metadata": {
        "id": "kpOOYpeLpfj_"
      }
    },
    {
      "cell_type": "markdown",
      "source": [
        "**Histogram Boosting Gradient Classifier**"
      ],
      "metadata": {
        "id": "Y-hRQEIQphrb"
      }
    },
    {
      "cell_type": "code",
      "source": [
        "x = train3[['Neighborhood','OverallQual','BedroomAbvGr','CentralAir','BsmtQual','Fireplaces','YrSold','HeatingQC','GarageType','RoofMatl','PavedDrive','SaleType','FullBath','OpenPorchSF','RoofStyle','Utilities','BsmtFinSF1','Heating','KitchenQual','HalfBath','BsmtFinType1','WoodDeckSF','TotRmsAbvGrd','YearBuilt','BsmtCond','Foundation','Electrical','BldgType','OverallCond','GrLivArea','LotConfig','LotShape','LotArea','Exterior1st','ExterQual','ExterCond']]\n",
        "y = train3['SalePrice']"
      ],
      "metadata": {
        "id": "GqNT4o6XrB-X"
      },
      "execution_count": null,
      "outputs": []
    },
    {
      "cell_type": "code",
      "source": [
        "hgb_classifier = HistGradientBoostingClassifier()\n",
        "hgb_classifier.fit(x,y)"
      ],
      "metadata": {
        "id": "WQFvK6Bqpd9L"
      },
      "execution_count": null,
      "outputs": []
    },
    {
      "cell_type": "code",
      "source": [
        "test_HBGC = test_mapped[['Neighborhood','OverallQual','BedroomAbvGr','CentralAir','BsmtQual','Fireplaces','YrSold','HeatingQC','GarageType','RoofMatl','PavedDrive','SaleType','FullBath','OpenPorchSF','RoofStyle','Utilities','BsmtFinSF1','Heating','KitchenQual','HalfBath','BsmtFinType1','WoodDeckSF','TotRmsAbvGrd','YearBuilt','BsmtCond','Foundation','Electrical','BldgType','OverallCond','GrLivArea','LotConfig','LotShape','LotArea','Exterior1st','ExterQual','ExterCond']]"
      ],
      "metadata": {
        "id": "rbdbyVNJrcNA"
      },
      "execution_count": null,
      "outputs": []
    },
    {
      "cell_type": "code",
      "source": [
        "y_pred_hgb = hgb_classifier.predict(test_HBGC)"
      ],
      "metadata": {
        "id": "CwKd9XMkrGBh"
      },
      "execution_count": null,
      "outputs": []
    },
    {
      "cell_type": "code",
      "source": [
        "y_pred_hgb"
      ],
      "metadata": {
        "colab": {
          "base_uri": "https://localhost:8080/"
        },
        "id": "sBHrgbnbvBdY",
        "outputId": "4bad34fc-fd37-4a3a-ee2e-846ed0edd6ad"
      },
      "execution_count": null,
      "outputs": [
        {
          "output_type": "execute_result",
          "data": {
            "text/plain": [
              "array([236500, 197900, 127000, 223500, 212900, 194000, 112500, 195000,\n",
              "       228500, 235000, 185500, 111000, 383970, 213000, 144000, 173900,\n",
              "       287000, 275000, 320000, 163990, 214000, 233230, 235000, 275000,\n",
              "       235000, 163990, 127000, 230000, 235000, 130250,  93000,  94750,\n",
              "       130000, 159500, 127500, 115000, 100000, 155000, 112000, 160000,\n",
              "       108000, 100000, 130250, 125000, 105900, 116000, 105000, 200500,\n",
              "       116000, 126000, 245350, 107900, 125000, 119000, 157000, 116000,\n",
              "       159500, 115000, 116900, 100000, 125500, 131000, 107000, 122000,\n",
              "       115000, 112000, 100000])"
            ]
          },
          "metadata": {},
          "execution_count": 81
        }
      ]
    },
    {
      "cell_type": "markdown",
      "source": [
        "This looks like our best prediction."
      ],
      "metadata": {
        "id": "jMRTEoGC25nl"
      }
    },
    {
      "cell_type": "markdown",
      "source": [
        "----------------------------------------------------------------------------\n",
        "\n",
        "----------------------------------------------------------------------------"
      ],
      "metadata": {
        "id": "_I52xxMKlCv3"
      }
    },
    {
      "cell_type": "markdown",
      "source": [
        "**Support Vector Regression**: a machine learning clustering method that determines a line/ hyperplane separating classes in a continuous space."
      ],
      "metadata": {
        "id": "Unhc-iUUhMIa"
      }
    },
    {
      "cell_type": "markdown",
      "source": [
        "https://www.analyticsvidhya.com/blog/2020/03/support-vector-regression-tutorial-for-machine-learning/"
      ],
      "metadata": {
        "id": "uDHfTo3QjnVd"
      }
    },
    {
      "cell_type": "code",
      "source": [
        "x = train2[['OverallQual', 'BedroomAbvGr', 'Fireplaces', 'YrSold', 'FullBath', 'OpenPorchSF', 'BsmtFinSF1', 'HalfBath', 'WoodDeckSF', 'TotRmsAbvGrd', 'YearBuilt', 'OverallCond', 'GrLivArea', 'LotArea']].values.astype(float)\n",
        "y = train2['SalePrice'].values.astype(float)"
      ],
      "metadata": {
        "id": "-rk6MYQIjOzH"
      },
      "execution_count": null,
      "outputs": []
    },
    {
      "cell_type": "code",
      "source": [
        "#normalizing the data\n",
        "sc_x = StandardScaler()\n",
        "sc_y = StandardScaler()\n",
        "x = sc_x.fit_transform(x)\n",
        "y = sc_y.fit_transform(y.reshape(-1,1))"
      ],
      "metadata": {
        "id": "HNGH6khQi6iS"
      },
      "execution_count": null,
      "outputs": []
    },
    {
      "cell_type": "code",
      "source": [
        "x.shape"
      ],
      "metadata": {
        "id": "3kkr6qNwIP2G"
      },
      "execution_count": null,
      "outputs": []
    },
    {
      "cell_type": "code",
      "source": [
        "y.shape"
      ],
      "metadata": {
        "id": "iLUSenBIISeH"
      },
      "execution_count": null,
      "outputs": []
    },
    {
      "cell_type": "code",
      "source": [
        "#Fitting SVR to the data\n",
        "regressor = SVR(kernel = 'rbf') #kernel can be linear/ gaussian/ etc.\n",
        "regressor.fit(x, y)"
      ],
      "metadata": {
        "id": "4LR9EB32jXqb"
      },
      "execution_count": null,
      "outputs": []
    },
    {
      "cell_type": "code",
      "source": [
        "test_SVR = test_mapped[['OverallQual', 'BedroomAbvGr', 'Fireplaces', 'YrSold', 'FullBath', 'OpenPorchSF', 'BsmtFinSF1', 'HalfBath', 'WoodDeckSF', 'TotRmsAbvGrd', 'YearBuilt', 'OverallCond', 'GrLivArea', 'LotArea']]"
      ],
      "metadata": {
        "id": "Zwnn-Ankl7xk"
      },
      "execution_count": null,
      "outputs": []
    },
    {
      "cell_type": "code",
      "source": [
        "#Prediction\n",
        "y_pred = regressor.predict(test_SVR)\n",
        "y_pred"
      ],
      "metadata": {
        "id": "u3ZJjKRHjdPI",
        "colab": {
          "base_uri": "https://localhost:8080/"
        },
        "outputId": "1cb08055-73e6-4969-977f-32f4b15cbc37"
      },
      "execution_count": null,
      "outputs": [
        {
          "output_type": "stream",
          "name": "stderr",
          "text": [
            "/usr/local/lib/python3.10/dist-packages/sklearn/base.py:432: UserWarning: X has feature names, but SVR was fitted without feature names\n",
            "  warnings.warn(\n"
          ]
        },
        {
          "output_type": "execute_result",
          "data": {
            "text/plain": [
              "array([0.24942747, 0.24942747, 0.24942747, 0.24942747, 0.24942747,\n",
              "       0.24942747, 0.24942747, 0.24942747, 0.24942747, 0.24942747,\n",
              "       0.24942747, 0.24942747, 0.24942747, 0.24942747, 0.24942747,\n",
              "       0.24942747, 0.24942747, 0.24942747, 0.24942747, 0.24942747,\n",
              "       0.24942747, 0.24942747, 0.24942747, 0.24942747, 0.24942747,\n",
              "       0.24942747, 0.24942747, 0.24942747, 0.24942747, 0.24942747,\n",
              "       0.24942747, 0.24942747, 0.24942747, 0.24942747, 0.24942747,\n",
              "       0.24942747, 0.24942747, 0.24942747, 0.24942747, 0.24942747,\n",
              "       0.24942747, 0.24942747, 0.24942747, 0.24942747, 0.24942747,\n",
              "       0.24942747, 0.24942747, 0.24942747, 0.24942747, 0.24942747,\n",
              "       0.24942747, 0.24942747, 0.24942747, 0.24942747, 0.24942747,\n",
              "       0.24942747, 0.24942747, 0.24942747, 0.24942747, 0.24942747,\n",
              "       0.24942747, 0.24942747, 0.24942747, 0.24942747, 0.24942747,\n",
              "       0.24942747, 0.24942747])"
            ]
          },
          "metadata": {},
          "execution_count": 99
        }
      ]
    },
    {
      "cell_type": "markdown",
      "source": [
        "This is obviously nonsensical."
      ],
      "metadata": {
        "id": "x5HL_Idd2wXm"
      }
    }
  ]
}